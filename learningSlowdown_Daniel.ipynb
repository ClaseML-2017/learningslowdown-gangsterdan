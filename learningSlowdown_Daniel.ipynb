{
 "cells": [
  {
   "cell_type": "markdown",
   "metadata": {},
   "source": [
    "## Learning Slowdown\n",
    "#### Daniel Espinosa 136981"
   ]
  },
  {
   "cell_type": "markdown",
   "metadata": {},
   "source": [
    "El ejemplo ilustrativo del *learning slowdown* se hará con una red neuronal de topología **2-1-1-1**, de esta forma será sencillo ilustrar cómo cambian los pesos de las neuronas en las diferentes capas durante las iteraciones de entrenamiento.\n",
    "\n",
    "La información con la que se entrenará la red será la función XOR, de esta manera es un problema sencillo pero uno que solamente tiene una solución óptima con varias neuronas."
   ]
  },
  {
   "cell_type": "code",
   "execution_count": 1,
   "metadata": {
    "collapsed": true
   },
   "outputs": [],
   "source": [
    "import tensorflow as tf\n",
    "import numpy as np\n",
    "import matplotlib.pyplot as plt"
   ]
  },
  {
   "cell_type": "markdown",
   "metadata": {},
   "source": [
    "Función XOR"
   ]
  },
  {
   "cell_type": "code",
   "execution_count": 2,
   "metadata": {
    "collapsed": true
   },
   "outputs": [],
   "source": [
    "X=np.asarray([[0,0],[0,1],[1,0],[1,1]])\n",
    "Y=np.asarray([[0],[1],[1],[0]])"
   ]
  },
  {
   "cell_type": "code",
   "execution_count": 62,
   "metadata": {},
   "outputs": [],
   "source": [
    "#dimensiones de los datos de entrada y salida, para las dimensiones de las capas correspondientes\n",
    "input_size=2\n",
    "hidden_layer1_size=1\n",
    "hidden_layer2_size=1\n",
    "output_layer_size=1\n",
    "\n",
    "#Placeholders para los datos de entrada, incluida la y real, ya que es una entrada en el entrenamiento.\n",
    "x = tf.placeholder(tf.float32, [None, input_size])\n",
    "y_ = tf.placeholder(tf.float32, [None, output_layer_size]) #la y real\n",
    "\n",
    "\n",
    "#La variables para lo que se va a ir calculando y modificando en el camino\n",
    "#primera capa\n",
    "W_layer1 = tf.Variable(tf.random_uniform([input_size,hidden_layer1_size], -1, 1), name=\"W_layer1\") #weights\n",
    "b_layer1 = tf.Variable(tf.zeros([hidden_layer1_size]), name=\"b_layer1\") #bias\n",
    "\n",
    "#Para la segunda capa\n",
    "W_layer2 = tf.Variable(tf.random_uniform([hidden_layer1_size,hidden_layer2_size], -1, 1), name=\"W_layer2\") #weights\n",
    "b_layer2 = tf.Variable(tf.zeros([hidden_layer2_size]), name=\"b_layer2\") #bias\n",
    "\n",
    "#Para la tercera capa\n",
    "W_layer3 = tf.Variable(tf.random_uniform([hidden_layer2_size,output_layer_size], -1, 1), name=\"W_layer3\") #weights\n",
    "b_layer3 = tf.Variable(tf.zeros([output_layer_size]), name=\"b_layer3\") #bias"
   ]
  },
  {
   "cell_type": "code",
   "execution_count": 63,
   "metadata": {},
   "outputs": [],
   "source": [
    "#Definir las funciones por capas, para que el grafo sepa aplicar backpropagation correctamente\n",
    "inter1 = tf.nn.sigmoid(tf.matmul(x,W_layer1)+b_layer1)\n",
    "inter2 = tf.nn.sigmoid(tf.matmul(inter1,W_layer2)+b_layer2)\n",
    "y = tf.nn.sigmoid(tf.matmul(inter2,W_layer3) + b_layer3)\n",
    "\n",
    "\n",
    "lossfn = tf.reduce_mean(tf.reduce_sum((y_-y)**2)) #error cuadratico (se puede hacer con cross entropy)\n",
    "\n",
    "#Se define como optimizar la loss function y el learning rate\n",
    "train_step = tf.train.GradientDescentOptimizer(0.01).minimize(lossfn)"
   ]
  },
  {
   "cell_type": "markdown",
   "metadata": {},
   "source": [
    "Iniciamos la sesión."
   ]
  },
  {
   "cell_type": "code",
   "execution_count": 64,
   "metadata": {},
   "outputs": [
    {
     "name": "stdout",
     "output_type": "stream",
     "text": [
      "WARNING:tensorflow:From /Users/danielespinosa/gitsome/claseMachineLearning/lib/python2.7/site-packages/tensorflow/python/util/tf_should_use.py:175: initialize_all_variables (from tensorflow.python.ops.variables) is deprecated and will be removed after 2017-03-02.\n",
      "Instructions for updating:\n",
      "Use `tf.global_variables_initializer` instead.\n"
     ]
    }
   ],
   "source": [
    "init = tf.initialize_all_variables()\n",
    "sess = tf.Session() # tipo de sesion, puede ser interactiva"
   ]
  },
  {
   "cell_type": "markdown",
   "metadata": {},
   "source": [
    "Creamos las listas para guardar los deltas de los pesos de cada iteración."
   ]
  },
  {
   "cell_type": "code",
   "execution_count": 65,
   "metadata": {
    "collapsed": true
   },
   "outputs": [],
   "source": [
    "num_iterations = 100000\n",
    "\n",
    "ws = np.array([np.zeros(num_iterations),np.zeros(num_iterations),np.zeros(num_iterations)])\n",
    "bs = np.array([np.zeros(num_iterations),np.zeros(num_iterations),np.zeros(num_iterations)])"
   ]
  },
  {
   "cell_type": "code",
   "execution_count": 66,
   "metadata": {},
   "outputs": [],
   "source": [
    "sess.run(init)\n",
    "for i in range(num_iterations):\n",
    "    sess.run(train_step, feed_dict={x: X, y_: Y}) #Corre sobre todo el input\n",
    "  \n",
    "    bs[0][i] = sess.run(b_layer1, feed_dict={x: X, y_: Y})[0] #solo habra 1\n",
    "    bs[1][i] = sess.run(b_layer2, feed_dict={x: X, y_: Y})[0] #solo habra 1\n",
    "    bs[2][i] = sess.run(b_layer3, feed_dict={x: X, y_: Y})[0] #solo habra 1\n",
    "    \n",
    "    ws[0][i] = sess.run(W_layer1, feed_dict={x: X, y_: Y})[0] #solo habra 1\n",
    "    ws[1][i] = sess.run(W_layer2, feed_dict={x: X, y_: Y})[0] #solo habra 1\n",
    "    ws[2][i] = sess.run(W_layer3, feed_dict={x: X, y_: Y})[0] #solo habra 1\n",
    "\n",
    "#Aseguremos que el modelo tenga accuracy de 1.\n",
    "\n",
    "#correct_prediction = tf.equal(tf.round(y),y_) # Tensor de booleanos que indican si la entrada en la prediccion (redondeada) fue correcta.\n",
    "#accuracy = tf.reduce_mean(tf.cast(correct_prediction, tf.float32)) # Casteo a float de los booleanos, sacar promedio de las entradas\n",
    "\n",
    "#while(sess.run(accuracy, feed_dict={x: X, y_: Y}) != 1):\n",
    "#    for i in range(1000):\n",
    "#      sess.run(train_step, feed_dict={x: X, y_: Y})"
   ]
  },
  {
   "cell_type": "markdown",
   "metadata": {},
   "source": [
    "Calcular el cambio de los pesos en cada iteración\n",
    "\n",
    "delta peso en i = peso en i - peso en i-1"
   ]
  },
  {
   "cell_type": "code",
   "execution_count": 67,
   "metadata": {
    "collapsed": true
   },
   "outputs": [],
   "source": [
    "#arreglos para los deltas\n",
    "dws = np.array([np.zeros(num_iterations-1),np.zeros(num_iterations-1),np.zeros(num_iterations-1)])\n",
    "dbs = np.array([np.zeros(num_iterations-1),np.zeros(num_iterations-1),np.zeros(num_iterations-1)])\n",
    "\n",
    "for i in range(1,num_iterations):\n",
    "    dws[0][i-1] = ws[0][i] - ws[0][i-1]\n",
    "    dws[1][i-1] = ws[1][i] - ws[1][i-1]\n",
    "    dws[2][i-1] = ws[2][i] - ws[2][i-1]\n",
    "    \n",
    "    dbs[0][i-1] = bs[0][i] - bs[0][i-1]\n",
    "    dbs[1][i-1] = bs[1][i] - bs[1][i-1]\n",
    "    dbs[2][i-1] = bs[2][i] - bs[2][i-1]\n",
    "    "
   ]
  },
  {
   "cell_type": "code",
   "execution_count": 85,
   "metadata": {},
   "outputs": [
    {
     "data": {
      "image/png": "[encoded data removed]",
      "text/plain": [
       "<matplotlib.figure.Figure at 0x115bff150>"
      ]
     },
     "metadata": {},
     "output_type": "display_data"
    }
   ],
   "source": [
    "x_space = np.linspace(0,num_iterations-1,num_iterations-1)\n",
    "\n",
    "plt.scatter(x_space,abs(dws[0]),c='blue')\n",
    "plt.scatter(x_space,abs(dws[1]),c='orange')\n",
    "plt.scatter(x_space,abs(dws[2]),c='violet')\n",
    "plt.ylim([0,0.0000001])\n",
    "plt.show()\n"
   ]
  },
  {
   "cell_type": "code",
   "execution_count": 83,
   "metadata": {},
   "outputs": [
    {
     "data": {
      "image/png": "[encoded data removed]",
      "text/plain": [
       "<matplotlib.figure.Figure at 0x115bff510>"
      ]
     },
     "metadata": {},
     "output_type": "display_data"
    }
   ],
   "source": [
    "plt.scatter(x_space,abs(dbs[0]),c='blue')\n",
    "plt.scatter(x_space,abs(dbs[1]),c='orange')\n",
    "plt.scatter(x_space,abs(dbs[2]),c='violet')\n",
    "plt.ylim([0,0.0000001])\n",
    "plt.show()"
   ]
  },
  {
   "cell_type": "code",
   "execution_count": 70,
   "metadata": {
    "collapsed": true
   },
   "outputs": [],
   "source": [
    "#Cerramos sesion\n",
    "sess.close()"
   ]
  },
  {
   "cell_type": "markdown",
   "metadata": {},
   "source": [
    "Se puede observar que en general el cambio en los pesos sí es mayor en la última capa, representado por la línea rosa. En este caso en particular para los pesos w, la última capaa tiene cambios más grandes, seguida por la primera capa y luego la intermedia. En los sesgos, la primera capa tiene cambios más grandes, seguida por la última capa y la capa intermedia tiene deltas muy pequeños."
   ]
  }
 ],
 "metadata": {
  "kernelspec": {
   "display_name": "ML",
   "language": "python",
   "name": "clasemachinelearning"
  },
  "language_info": {
   "codemirror_mode": {
    "name": "ipython",
    "version": 2
   },
   "file_extension": ".py",
   "mimetype": "text/x-python",
   "name": "python",
   "nbconvert_exporter": "python",
   "pygments_lexer": "ipython2",
   "version": "2.7.13"
  }
 },
 "nbformat": 4,
 "nbformat_minor": 1
}
